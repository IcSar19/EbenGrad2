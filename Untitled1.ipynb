{
  "nbformat": 4,
  "nbformat_minor": 0,
  "metadata": {
    "colab": {
      "name": "Untitled1.ipynb",
      "provenance": [],
      "collapsed_sections": []
    },
    "kernelspec": {
      "name": "python3",
      "display_name": "Python 3"
    }
  },
  "cells": [
    {
      "cell_type": "markdown",
      "metadata": {
        "id": "j4gJ0XlQcDRn"
      },
      "source": [
        "Божко Даниэль Дмитриевич, КИ19-23Б, 20.02.21"
      ]
    },
    {
      "cell_type": "code",
      "metadata": {
        "id": "yIV0g5hTcE9v"
      },
      "source": [
        "print(\"Шалом православные\") #@title Приветствие"
      ],
      "execution_count": null,
      "outputs": []
    }
  ]
}